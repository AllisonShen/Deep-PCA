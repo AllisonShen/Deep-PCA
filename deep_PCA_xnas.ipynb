{
 "cells": [
  {
   "cell_type": "code",
   "execution_count": 103,
   "metadata": {},
   "outputs": [],
   "source": [
    "import argparse\n",
    "import numpy as np\n",
    "import matplotlib.pyplot as plt\n",
    "from numpy.linalg import inv\n",
    "\n",
    "import cv2\n",
    "\n",
    "import torch\n",
    "import torch.nn as nn\n",
    "import torch.nn.functional as F\n",
    "# from torchvision import utils, datasets, transforms\n",
    "\n",
    "import time\n",
    "import scipy\n",
    "import sys\n",
    "import os\n",
    "import shutil\n",
    "import random"
   ]
  },
  {
   "cell_type": "code",
   "execution_count": 104,
   "metadata": {},
   "outputs": [],
   "source": [
    "faces_dir_original = './datasets/att_faces'\n",
    "faces_count = 40\n",
    "H = 112\n",
    "W = 92\n",
    "train_ratio = 0.6"
   ]
  },
  {
   "cell_type": "code",
   "execution_count": 105,
   "metadata": {},
   "outputs": [],
   "source": [
    "class Eigenfaces(object):                                                       # *** COMMENTS ***\n",
    "    faces_count = 40\n",
    "\n",
    "    faces_dir = '.'                                                             # directory path to the AT&T faces\n",
    "\n",
    "    train_faces_count = 6                                                       # number of faces used for training\n",
    "    test_faces_count = 4                                                       # number of faces used for testing\n",
    "\n",
    "    l = train_faces_count * faces_count                                         # training images count\n",
    "    m = 92                                                                      # number of columns of the image\n",
    "    n = 112                                                                     # number of rows of the image\n",
    "    mn = m * n                                                                  # length of the column vector\n",
    "\n",
    "    \"\"\"\n",
    "    Initializing the Eigenfaces model.\n",
    "    \"\"\"\n",
    "\n",
    "    def __init__(self,_faces_dir = '.'):\n",
    "        print('> Initializing started')\n",
    "\n",
    "        self.faces_dir = _faces_dir\n",
    "        self.energy = 0.85\n",
    "        self.training_ids = []                                                  # train image id's for every at&t face\n",
    "\n",
    "        L = np.empty(shape=(self.mn, self.l), dtype='float64')                  # each row of L represents one train image\n",
    "\n",
    "        cur_img = 0\n",
    "        for face_id in range(1, self.faces_count + 1):\n",
    "\n",
    "            training_ids = random.sample(range(1, 11), self.train_faces_count)  # the id's of the 6 random training images\n",
    "            self.training_ids.append(training_ids)                              # remembering the training id's for later\n",
    "\n",
    "            for training_id in training_ids:\n",
    "                path_to_img = os.path.join(self.faces_dir,\n",
    "                        's' + str(face_id), str(training_id) + '.npy')          # relative path\n",
    "                # print '> reading file: ' + path_to_img\n",
    "                img = np.load(path_to_img)\n",
    "                # img = cv2.imread(path_to_img, 0) # read a grayscale image\n",
    "                img_col = np.array(img, dtype='float64').flatten()              # flatten the 2d image into 1d\n",
    "\n",
    "                L[:, cur_img] = img_col[:]                                      # set the cur_img-th column to the current training image\n",
    "                cur_img += 1\n",
    "        print(f\"L.shape = {L.shape}\")\n",
    "        self.L = L\n",
    "    def get_evaluate_set(self):\n",
    "        test_set = np.empty(shape=(self.mn, self.test_faces_count*faces_count), dtype='float64')                  # each row of L represents one train image\n",
    "        labels = np.empty(shape=(self.test_faces_count*faces_count), dtype='int64')                  # each row of L represents one train image\n",
    "        cur_img = 0\n",
    "        for face_id in range(1, self.faces_count + 1):\n",
    "            for test_id in range(1, 11):\n",
    "                if (test_id in self.training_ids[face_id-1]) == False:          # we skip the image if it is part of the training set\n",
    "                    path_to_img = os.path.join(self.faces_dir,\n",
    "                            's' + str(face_id), str(test_id) + '.npy')          # relative path\n",
    "                    img = np.load(path_to_img)\n",
    "                    img_col = np.array(img, dtype='float64').flatten()              # flatten the 2d image into 1d\n",
    "                    test_set[:, cur_img] = img_col[:]                                      # set the cur_img-th column to the current training image\n",
    "                    labels[cur_img] = face_id\n",
    "                    cur_img += 1\n",
    "        print(f\"L.shape = {test_set.shape}\")\n",
    "        self.test_set = test_set\n",
    "        self.labels = labels\n",
    "        return test_set, labels\n"
   ]
  },
  {
   "cell_type": "code",
   "execution_count": 106,
   "metadata": {},
   "outputs": [
    {
     "name": "stdout",
     "output_type": "stream",
     "text": [
      "> Initializing started\n",
      "L.shape = (10304, 240)\n"
     ]
    }
   ],
   "source": [
    "eigenface = Eigenfaces(faces_dir_original)"
   ]
  },
  {
   "cell_type": "code",
   "execution_count": 107,
   "metadata": {},
   "outputs": [
    {
     "name": "stdout",
     "output_type": "stream",
     "text": [
      "(10304, 240)\n"
     ]
    }
   ],
   "source": [
    "print(eigenface.L.shape)"
   ]
  },
  {
   "cell_type": "code",
   "execution_count": 108,
   "metadata": {},
   "outputs": [],
   "source": [
    "def STEM(inputs, kernel = 3, channel = 1):\n",
    "    m = kernel\n",
    "    n = kernel\n",
    "    if (m == n):\n",
    "        X = []\n",
    "        y, x = inputs.shape #(10304, 240)\n",
    "        #print the size of torch.zeros...\n",
    "        inputs_with_padding = torch.cat((inputs,torch.zeros((y,kernel))),-1)\n",
    "        inputs_with_padding = torch.cat((inputs_with_padding,torch.zeros(kernel,x+kernel)),-2)\n",
    "        for i in range(inputs.shape[0]):\n",
    "            row = []\n",
    "            for j in range(inputs.shape[1]):\n",
    "                row.append(inputs_with_padding[i:i+kernel,j:j+kernel])\n",
    "            X.append(row)\n",
    "        X = torch.stack([torch.stack(x,2) for x in X],2).permute(0,1,2,3)\n",
    "        print(f\"X.shape = {X.shape}\")\n",
    "        \n",
    "    # print(STEM.shape)\n",
    "    stem_input = X.reshape(-1,1,kernel,kernel)\n",
    "    return stem_input"
   ]
  },
  {
   "cell_type": "code",
   "execution_count": 109,
   "metadata": {},
   "outputs": [
    {
     "name": "stdout",
     "output_type": "stream",
     "text": [
      "X.shape = torch.Size([3, 3, 10304, 240])\n",
      "stem_input.shape = torch.Size([2472960, 1, 3, 3])\n"
     ]
    }
   ],
   "source": [
    "kernel = 3\n",
    "stem_input = STEM(torch.Tensor(eigenface.L),kernel) #input is the eigenface.L (10304, 240)\n",
    "print(f\"stem_input.shape = {stem_input.shape}\") # (112*92*240, 1, 3, 3)"
   ]
  },
  {
   "cell_type": "code",
   "execution_count": 110,
   "metadata": {},
   "outputs": [],
   "source": [
    "from sklearn.decomposition import PCA\n"
   ]
  },
  {
   "cell_type": "code",
   "execution_count": 111,
   "metadata": {},
   "outputs": [
    {
     "name": "stdout",
     "output_type": "stream",
     "text": [
      "torch.Size([2472960, 1, 3, 3])\n",
      "torch.Size([2472960, 9])\n",
      "torch.Size([2472960, 9])\n",
      "(2472960, 1)\n"
     ]
    }
   ],
   "source": [
    "pca = PCA(n_components=1)\n",
    "print(stem_input.shape)\n",
    "stem_input = stem_input.reshape(-1, kernel*kernel)\n",
    "print(stem_input.shape)\n",
    "pca_result = pca.fit_transform(stem_input)\n",
    "print(stem_input.shape)\n",
    "print(pca_result.shape) "
   ]
  },
  {
   "cell_type": "code",
   "execution_count": 112,
   "metadata": {},
   "outputs": [],
   "source": [
    "# w_encoder = torch.tensor(pca.components_).float()\n",
    "# print(w_encoder.shape) # (1, 9)\n",
    "# # Now, you can manually calculate pca_result using W and stem_input\n",
    "# #show stem_input's type, float32 or float64\n",
    "# print(stem_input.dtype)\n",
    "# print(w_encoder.dtype)\n",
    "# verify_pca_result = torch.mm(stem_input, w_encoder.t())\n",
    "# print(verify_pca_result.shape) # (10304, 1)\n",
    "# print(pca_result.shape) # (10304, 1)\n",
    "# #compare if pca_result == verify_pca_result\n",
    "# print(torch.allclose(torch.tensor(pca_result).float(), verify_pca_result,rtol=1e-3, atol=1e-3))\n",
    "# #print the first 10 pca_result\n",
    "# print(pca_result[:10])\n",
    "# print(verify_pca_result[:10])"
   ]
  },
  {
   "cell_type": "code",
   "execution_count": 113,
   "metadata": {},
   "outputs": [],
   "source": [
    "def DPCA_eig(Y, X, m): #here we minimize $\\| Y - F U X \\|^2$\n",
    "    # Y: (3,BHW), X: (27, BHW)\n",
    "    print(f\"Y.shape = {Y.shape}\") # [1,2472960]\n",
    "    print(f\"X.shape = {X.shape}\") # [9,2472960]\n",
    "    n,p = X.size()\n",
    "    print(f\"n = {n}, p = {p}\")\n",
    "    XYt = torch.mm(X, Y.t())\n",
    "    print(f\"XYt.shape = {XYt.shape}\") # [9,1]\n",
    "    RM = torch.mm(torch.inverse(torch.mm(X, X.t())+1e-3*torch.eye(X.shape[0])),\n",
    "\t\t\t        torch.mm(XYt, XYt.t())) # [9,9]\n",
    "    print(f\"RM.shape = {RM.shape}\")\n",
    "    eigenvalues, eigenvectors = torch.linalg.eig(RM)\n",
    "    \n",
    "    values, indices = torch.sort(eigenvalues.real, descending=True)\n",
    "    print(f\"values.shape = {values.shape}\")\n",
    "    \n",
    "    U = (eigenvectors[:, indices[:m]]).t().real  #(m,27)\n",
    "    print(f\"U.shape = {U.shape}\")\n",
    "    explained_variance = values[:m]\n",
    "    UX = torch.mm(U,X)\n",
    "    print(f\"UX.shape = {UX.shape}\")\n",
    "    F = torch.mm(torch.mm(Y, UX.t()),\n",
    "                 torch.inverse(torch.mm(UX, UX.t())+1e-3*torch.eye(UX.shape[0])),\n",
    "\t\t\t        )\n",
    "    print(f\"F.shape = {F.shape}\")\n",
    "    W = torch.mm(F, U)   #W = FU is a rank-m matrix\n",
    "    print(f\"W.shape = {W.shape}\")\n",
    "\n",
    "    return { 'X':X, 'k':m, 'components':U, 'explained_variance':explained_variance,\n",
    "            'W': W}"
   ]
  },
  {
   "cell_type": "code",
   "execution_count": 114,
   "metadata": {},
   "outputs": [
    {
     "name": "stdout",
     "output_type": "stream",
     "text": [
      "Y.shape = torch.Size([1, 2472960])\n",
      "X.shape = torch.Size([9, 2472960])\n",
      "n = 9, p = 2472960\n",
      "XYt.shape = torch.Size([9, 1])\n",
      "RM.shape = torch.Size([9, 9])\n",
      "values.shape = torch.Size([9])\n",
      "U.shape = torch.Size([1, 9])\n",
      "UX.shape = torch.Size([1, 2472960])\n",
      "F.shape = torch.Size([1, 1])\n",
      "W.shape = torch.Size([1, 9])\n"
     ]
    }
   ],
   "source": [
    "Encoder_output = DPCA_eig(torch.Tensor(pca_result).t(),stem_input.t(),1 ) #unsupervised\n"
   ]
  },
  {
   "cell_type": "code",
   "execution_count": 115,
   "metadata": {},
   "outputs": [
    {
     "name": "stdout",
     "output_type": "stream",
     "text": [
      "torch.Size([1, 9])\n"
     ]
    }
   ],
   "source": [
    "encoder_weight = Encoder_output['W']\n",
    "print(encoder_weight.shape) # (1, 9)"
   ]
  },
  {
   "cell_type": "code",
   "execution_count": 116,
   "metadata": {},
   "outputs": [
    {
     "name": "stdout",
     "output_type": "stream",
     "text": [
      "torch.Size([1, 9])\n",
      "torch.Size([1, 9])\n",
      "torch.Size([1])\n",
      "torch.Size([9, 2472960])\n",
      "1\n"
     ]
    }
   ],
   "source": [
    "print(Encoder_output['components'].shape)\n",
    "print(Encoder_output['W'].shape)\n",
    "print(Encoder_output['explained_variance'].shape)\n",
    "print(Encoder_output['X'].shape)\n",
    "print(Encoder_output['k'])"
   ]
  },
  {
   "cell_type": "code",
   "execution_count": 117,
   "metadata": {},
   "outputs": [
    {
     "name": "stdout",
     "output_type": "stream",
     "text": [
      "(2472960, 1)\n",
      "X.shape = torch.Size([3, 3, 2472960, 1])\n",
      "torch.Size([2472960, 1, 3, 3])\n"
     ]
    }
   ],
   "source": [
    "print(pca_result.shape)\n",
    "decoder_input = STEM(torch.Tensor(pca_result),3)\n",
    "print(decoder_input.shape)"
   ]
  },
  {
   "cell_type": "code",
   "execution_count": 118,
   "metadata": {},
   "outputs": [
    {
     "name": "stdout",
     "output_type": "stream",
     "text": [
      "torch.Size([10304, 240])\n",
      "torch.Size([2472960, 1])\n"
     ]
    }
   ],
   "source": [
    "decoder_output = torch.Tensor(eigenface.L)\n",
    "print(decoder_output.shape)\n",
    "#resize torch.Size([10304, 240]) to  torch.Size([2472960,1])\n",
    "decoder_output = decoder_output.reshape(-1,1)\n",
    "print(decoder_output.shape)"
   ]
  },
  {
   "cell_type": "code",
   "execution_count": 119,
   "metadata": {},
   "outputs": [],
   "source": [
    "outImg = None\n",
    "def LSE(input, output):\n",
    "  stem = input\n",
    "  print(f\"stem.shape = {stem.shape}\") # [2472960, 1]\n",
    "  targets = output.float() # [batch, 3, H, W] -> [batchxHxW, 3]\n",
    "  print(f\"targets.shape = {targets.shape}\") #[2472960, 1]\n",
    "\n",
    "  kernel_weights = torch.matmul(torch.inverse(torch.matmul(stem.t(),stem)+1e-3*torch.eye(stem.shape[-1])),\n",
    "            torch.matmul(stem.t(), targets))\n",
    "  \n",
    "  # #reconstruct images\n",
    "  # conved = torch.matmul(stem, kernel_weights).reshape(B, H, W, C).permute(0,3,1,2)\n",
    "  # # view_image(conved[0])\n",
    "  # global outImg \n",
    "  # outImg= conved[0] #restored img\n",
    "  # restored_img = conved[0]\n",
    "\n",
    "  return kernel_weights"
   ]
  },
  {
   "cell_type": "code",
   "execution_count": 120,
   "metadata": {},
   "outputs": [
    {
     "name": "stdout",
     "output_type": "stream",
     "text": [
      "torch.Size([2472960, 1, 3, 3])\n",
      "torch.Size([2472960, 1])\n",
      "stem.shape = torch.Size([2472960, 9])\n",
      "targets.shape = torch.Size([2472960, 1])\n",
      "weights_decoder.shape = torch.Size([9, 1])\n"
     ]
    }
   ],
   "source": [
    "print(decoder_input.shape)\n",
    "print(decoder_output.shape)\n",
    "weights_decoder = LSE(decoder_input.reshape(-1, kernel*kernel), decoder_output) #supervised\n",
    "print(f\"weights_decoder.shape = {weights_decoder.shape}\")"
   ]
  },
  {
   "cell_type": "markdown",
   "metadata": {},
   "source": [
    "Trainset and images reconstruction"
   ]
  },
  {
   "cell_type": "code",
   "execution_count": 121,
   "metadata": {},
   "outputs": [
    {
     "name": "stdout",
     "output_type": "stream",
     "text": [
      "(10304, 240)\n",
      "(2472960, 1)\n",
      "X.shape = torch.Size([3, 3, 2472960, 1])\n",
      "torch.Size([2472960, 1, 3, 3])\n"
     ]
    }
   ],
   "source": [
    "train_set = eigenface.L\n",
    "print(train_set.shape)\n",
    "train_set = train_set.reshape(-1,1)\n",
    "print(train_set.shape)\n",
    "train_set = torch.Tensor(train_set)\n",
    "train_set_stem = STEM(train_set,3)\n",
    "print(train_set_stem.shape)"
   ]
  },
  {
   "cell_type": "code",
   "execution_count": 122,
   "metadata": {},
   "outputs": [
    {
     "name": "stdout",
     "output_type": "stream",
     "text": [
      "torch.Size([1, 9])\n",
      "torch.Size([2472960, 1, 3, 3])\n",
      "torch.Size([2472960, 9])\n",
      "torch.Size([2472960, 1])\n"
     ]
    }
   ],
   "source": [
    "encoder_weight = Encoder_output['W']\n",
    "print(encoder_weight.shape)\n",
    "print(train_set_stem.shape)\n",
    "train_set_stem = train_set_stem.reshape(-1, kernel*kernel)\n",
    "print(train_set_stem.shape)\n",
    "train_set_encoded = torch.matmul(train_set_stem, encoder_weight.t())\n",
    "print(train_set_encoded.shape)\n",
    "\n"
   ]
  },
  {
   "cell_type": "code",
   "execution_count": 123,
   "metadata": {},
   "outputs": [
    {
     "name": "stdout",
     "output_type": "stream",
     "text": [
      "X.shape = torch.Size([3, 3, 2472960, 1])\n",
      "train_set_decoder_input.shape = torch.Size([2472960, 1, 3, 3])\n"
     ]
    }
   ],
   "source": [
    "train_set_decoder_input = STEM(train_set_encoded,3)\n",
    "print(f\"train_set_decoder_input.shape = {train_set_decoder_input.shape}\")"
   ]
  },
  {
   "cell_type": "code",
   "execution_count": 124,
   "metadata": {},
   "outputs": [
    {
     "name": "stdout",
     "output_type": "stream",
     "text": [
      "torch.Size([2472960, 1])\n"
     ]
    }
   ],
   "source": [
    "train_set_decoder_input = train_set_decoder_input.reshape(-1, kernel*kernel)\n",
    "decoder_weight = weights_decoder\n",
    "train_set_decoded = torch.matmul(train_set_decoder_input, decoder_weight)\n",
    "print(train_set_decoded.shape)"
   ]
  },
  {
   "cell_type": "code",
   "execution_count": 125,
   "metadata": {},
   "outputs": [
    {
     "name": "stdout",
     "output_type": "stream",
     "text": [
      "torch.Size([112, 92, 240])\n"
     ]
    }
   ],
   "source": [
    "#reconstruct images and plot\n",
    "reshaped_train_set_decoded = train_set_decoded.reshape(112,92,240)\n",
    "print(reshaped_train_set_decoded.shape)\n"
   ]
  },
  {
   "cell_type": "code",
   "execution_count": 126,
   "metadata": {},
   "outputs": [],
   "source": [
    "def plot_one_image(img):\n",
    "    # plt.imshow('image window', img)\n",
    "    # plt.imshow(img.cpu().data.numpy())\n",
    "    img = img.astype('uint8')\n",
    "    plt.imshow(cv2.cvtColor(img, cv2.COLOR_BGR2RGB))\n",
    "    plt.show()"
   ]
  },
  {
   "cell_type": "code",
   "execution_count": 127,
   "metadata": {},
   "outputs": [
    {
     "name": "stdout",
     "output_type": "stream",
     "text": [
      "torch.Size([112, 92])\n"
     ]
    },
    {
     "data": {
      "image/png": "[encoded data removed]",
      "text/plain": [
       "<Figure size 640x480 with 1 Axes>"
      ]
     },
     "metadata": {},
     "output_type": "display_data"
    }
   ],
   "source": [
    "test_img = reshaped_train_set_decoded[:,:,3]\n",
    "print(test_img.shape)\n",
    "#convert to numpy\n",
    "test_img = test_img.cpu().data.numpy()\n",
    "#plot the first 1 images\n",
    "plot_one_image(test_img)"
   ]
  },
  {
   "cell_type": "markdown",
   "metadata": {},
   "source": [
    "Testset and Images Reconstruction"
   ]
  },
  {
   "cell_type": "code",
   "execution_count": 128,
   "metadata": {},
   "outputs": [
    {
     "name": "stdout",
     "output_type": "stream",
     "text": [
      "L.shape = (10304, 160)\n",
      "(10304, 160)\n",
      "(160,)\n"
     ]
    }
   ],
   "source": [
    "test_set, test_labels = eigenface.get_evaluate_set()\n",
    "print(test_set.shape)\n",
    "print(test_labels.shape)"
   ]
  },
  {
   "cell_type": "code",
   "execution_count": 129,
   "metadata": {},
   "outputs": [
    {
     "name": "stdout",
     "output_type": "stream",
     "text": [
      "(1648640, 1)\n",
      "(160,)\n",
      "Before padding, test_set.shape = (1648640, 1)\n"
     ]
    }
   ],
   "source": [
    "# reshape the testset from  (10304, 160) to (10304*160,1)\n",
    "test_set = test_set.reshape(-1,1) #put -1 for the unknown dimension \n",
    "print(test_set.shape)\n",
    "print(test_labels.shape)\n",
    "print(f\"Before padding, test_set.shape = {test_set.shape}\")\n",
    "#"
   ]
  },
  {
   "cell_type": "code",
   "execution_count": 130,
   "metadata": {},
   "outputs": [
    {
     "name": "stdout",
     "output_type": "stream",
     "text": [
      "torch.Size([10304, 240])\n",
      "torch.Size([2472960, 1])\n",
      "2472960\n",
      "1\n",
      "After padding: torch.Size([2472960, 1])\n",
      "tensor([[0.],\n",
      "        [0.],\n",
      "        [0.],\n",
      "        [0.],\n",
      "        [0.],\n",
      "        [0.],\n",
      "        [0.],\n",
      "        [0.],\n",
      "        [0.],\n",
      "        [0.]])\n"
     ]
    }
   ],
   "source": [
    "#padding the test_set using all 0 to (2472960,1) #2472960 can be got from the shape of encoder_input\n",
    "#print the size of encoder_input\n",
    "print(torch.Tensor(eigenface.L).shape)\n",
    "encoder_input = torch.Tensor(eigenface.L).reshape(-1,1)\n",
    "print(encoder_input.shape)\n",
    "#get the row from the shape\n",
    "row, col = encoder_input.shape\n",
    "print(row)\n",
    "print(col)\n",
    "# padding the test_set using all 0 to (row,1)\n",
    "test_set = torch.Tensor(test_set)\n",
    "# Pad test_set with zeros\n",
    "if test_set.shape[0] < row:\n",
    "    # Calculate the number of zeros needed for padding\n",
    "    num_zeros = row - test_set.shape[0]\n",
    "    \n",
    "    # Create a tensor of zeros with the appropriate shape\n",
    "    zeros = torch.zeros(num_zeros, 1)\n",
    "    \n",
    "    # Concatenate the zeros with test_set along the 0th dimension (rows)\n",
    "    test_set_padded = torch.cat((test_set, zeros), dim=0)\n",
    "else:\n",
    "    test_set_padded = test_set\n",
    "\n",
    "# Print the shape of the padded test_set\n",
    "print(f\"After padding: {test_set_padded.shape}\")\n",
    "print(test_set_padded[1648640:1648650])"
   ]
  },
  {
   "cell_type": "code",
   "execution_count": 131,
   "metadata": {},
   "outputs": [
    {
     "name": "stdout",
     "output_type": "stream",
     "text": [
      "X.shape = torch.Size([3, 3, 2472960, 1])\n",
      "test_set_stem.shape = torch.Size([2472960, 1, 3, 3])\n"
     ]
    }
   ],
   "source": [
    "import torch.nn.functional as F\n",
    "#first, stem the padded test_set_padded into 3x3 using STEM function\n",
    "test_set_stem = STEM(test_set_padded,3)\n",
    "print(f\"test_set_stem.shape = {test_set_stem.shape}\")\n",
    "\n",
    "\n"
   ]
  },
  {
   "cell_type": "code",
   "execution_count": 132,
   "metadata": {},
   "outputs": [
    {
     "name": "stdout",
     "output_type": "stream",
     "text": [
      "torch.Size([1, 9])\n",
      "torch.Size([2472960, 1, 3, 3])\n",
      "torch.Size([2472960, 9])\n",
      "torch.Size([2472960, 1])\n"
     ]
    }
   ],
   "source": [
    "# using encoder_weight to encode the test_set_stem\n",
    "encoder_weight = Encoder_output['W']\n",
    "print(encoder_weight.shape)\n",
    "print(test_set_stem.shape)\n",
    "#reshape the test_set_stem to 2472960,9\n",
    "test_set_stem = test_set_stem.reshape(-1, kernel*kernel)\n",
    "print(test_set_stem.shape)\n",
    "test_set_encoded = torch.matmul(test_set_stem, encoder_weight.t())\n",
    "print(test_set_encoded.shape)\n"
   ]
  },
  {
   "cell_type": "code",
   "execution_count": 133,
   "metadata": {},
   "outputs": [
    {
     "name": "stdout",
     "output_type": "stream",
     "text": [
      "X.shape = torch.Size([3, 3, 2472960, 1])\n",
      "test_set_decoder_input.shape = torch.Size([2472960, 1, 3, 3])\n"
     ]
    }
   ],
   "source": [
    "#STEM again to the test_set_encoded\n",
    "test_set_decoder_input = STEM(test_set_encoded,3)\n",
    "print(f\"test_set_decoder_input.shape = {test_set_decoder_input.shape}\")"
   ]
  },
  {
   "cell_type": "code",
   "execution_count": 134,
   "metadata": {},
   "outputs": [
    {
     "name": "stdout",
     "output_type": "stream",
     "text": [
      "torch.Size([9, 1])\n",
      "torch.Size([2472960, 1, 3, 3])\n",
      "torch.Size([2472960, 9])\n"
     ]
    }
   ],
   "source": [
    "#Use decoder_weight to decode the test_set_encoded\n",
    "decoder_weight = weights_decoder\n",
    "print(decoder_weight.shape)\n",
    "print(test_set_decoder_input.shape)\n",
    "#reshape the test_set_decoder_input to 2472960,9\n",
    "test_set_decoder_input = test_set_decoder_input.reshape(-1, kernel*kernel)\n",
    "print(test_set_decoder_input.shape)"
   ]
  },
  {
   "cell_type": "code",
   "execution_count": 135,
   "metadata": {},
   "outputs": [
    {
     "name": "stdout",
     "output_type": "stream",
     "text": [
      "torch.Size([2472960, 1])\n"
     ]
    }
   ],
   "source": [
    "test_set_decoded= torch.matmul(test_set_decoder_input, decoder_weight)\n",
    "print(test_set_decoded.shape)"
   ]
  },
  {
   "cell_type": "code",
   "execution_count": 136,
   "metadata": {},
   "outputs": [
    {
     "name": "stdout",
     "output_type": "stream",
     "text": [
      "tensor(False)\n"
     ]
    }
   ],
   "source": [
    "are_all_elements_zero = (test_set_decoded[1648640:] == 0.).all()\n",
    "print(are_all_elements_zero)\n"
   ]
  },
  {
   "cell_type": "code",
   "execution_count": 137,
   "metadata": {},
   "outputs": [],
   "source": [
    "#remove the padding\n",
    "test_set_decoded = test_set_decoded[:1648640]\n"
   ]
  },
  {
   "cell_type": "code",
   "execution_count": 138,
   "metadata": {},
   "outputs": [
    {
     "name": "stdout",
     "output_type": "stream",
     "text": [
      "torch.Size([1648640, 1])\n",
      "torch.Size([112, 92, 160])\n"
     ]
    }
   ],
   "source": [
    "print(test_set_decoded.shape)\n",
    "#reshape to (10304, 160)\n",
    "reshaped_test_set_decoded = test_set_decoded.reshape(112,92,160)\n",
    "print(reshaped_test_set_decoded.shape)"
   ]
  },
  {
   "cell_type": "code",
   "execution_count": 139,
   "metadata": {},
   "outputs": [
    {
     "name": "stdout",
     "output_type": "stream",
     "text": [
      "torch.Size([112, 92])\n"
     ]
    },
    {
     "data": {
      "image/png": "[encoded data removed]",
      "text/plain": [
       "<Figure size 640x480 with 1 Axes>"
      ]
     },
     "metadata": {},
     "output_type": "display_data"
    }
   ],
   "source": [
    "#get the first 1 images and convert to 2D numpy (112,92)\n",
    "test_img = reshaped_test_set_decoded[:,:,0]\n",
    "print(test_img.shape)\n",
    "#convert to numpy\n",
    "test_img = test_img.cpu().data.numpy()\n",
    "#plot the first 1 images\n",
    "plot_one_image(test_img)\n",
    "# for i in range(10):\n",
    "#     plot_one_image(reshaped_test_set_decoded[:,:,i])"
   ]
  },
  {
   "cell_type": "code",
   "execution_count": 148,
   "metadata": {},
   "outputs": [],
   "source": [
    "def STEM(inputs, kernel = 3, channel = 1):\n",
    "    m = kernel\n",
    "    n = kernel\n",
    "    if (m == n):\n",
    "        X = []\n",
    "        y, x = inputs.shape #(10304, 240)\n",
    "        #print the size of torch.zeros...\n",
    "        inputs_with_padding = torch.cat((inputs,torch.zeros((y,kernel))),-1)\n",
    "        inputs_with_padding = torch.cat((inputs_with_padding,torch.zeros(kernel,x+kernel)),-2)\n",
    "        for i in range(inputs.shape[0]):\n",
    "            row = []\n",
    "            for j in range(inputs.shape[1]):\n",
    "                row.append(inputs_with_padding[i:i+kernel,j:j+kernel])\n",
    "            X.append(row)\n",
    "        X = torch.stack([torch.stack(x,2) for x in X],2).permute(0,1,2,3)\n",
    "        print(f\"X.shape = {X.shape}\")\n",
    "        \n",
    "    # print(STEM.shape)\n",
    "    stem_input = X.reshape(-1,1,kernel,kernel)\n",
    "    return stem_input\n",
    "def DPCA_eig(Y, X, m): #here we minimize $\\| Y - F U X \\|^2$\n",
    "    # Y: (3,BHW), X: (27, BHW)\n",
    "    print(f\"Y.shape = {Y.shape}\") # [1,2472960]\n",
    "    print(f\"X.shape = {X.shape}\") # [9,2472960]\n",
    "    n,p = X.size()\n",
    "    print(f\"n = {n}, p = {p}\")\n",
    "    XYt = torch.mm(X, Y.t())\n",
    "    print(f\"XYt.shape = {XYt.shape}\") # [9,1]\n",
    "    RM = torch.mm(torch.inverse(torch.mm(X, X.t())+1e-3*torch.eye(X.shape[0])),\n",
    "\t\t\t        torch.mm(XYt, XYt.t())) # [9,9]\n",
    "    print(f\"RM.shape = {RM.shape}\")\n",
    "    eigenvalues, eigenvectors = torch.linalg.eig(RM)\n",
    "    \n",
    "    values, indices = torch.sort(eigenvalues.real, descending=True)\n",
    "    print(f\"values.shape = {values.shape}\")\n",
    "    \n",
    "    U = (eigenvectors[:, indices[:m]]).t().real  #(m,27)\n",
    "    print(f\"U.shape = {U.shape}\")\n",
    "    explained_variance = values[:m]\n",
    "    UX = torch.mm(U,X)\n",
    "    print(f\"UX.shape = {UX.shape}\")\n",
    "    F = torch.mm(torch.mm(Y, UX.t()),\n",
    "                 torch.inverse(torch.mm(UX, UX.t())+1e-3*torch.eye(UX.shape[0])),\n",
    "\t\t\t        )\n",
    "    print(f\"F.shape = {F.shape}\")\n",
    "    W = torch.mm(F, U)   #W = FU is a rank-m matrix\n",
    "    print(f\"W.shape = {W.shape}\")\n",
    "\n",
    "    return { 'X':X, 'k':m, 'components':U, 'explained_variance':explained_variance,\n",
    "            'W': W}\n",
    "def LSE(input, output):\n",
    "  stem = input\n",
    "  print(f\"stem.shape = {stem.shape}\") # [2472960, 1]\n",
    "  targets = output.float() # [batch, 3, H, W] -> [batchxHxW, 3]\n",
    "  print(f\"targets.shape = {targets.shape}\") #[2472960, 1]\n",
    "\n",
    "  kernel_weights = torch.matmul(torch.inverse(torch.matmul(stem.t(),stem)+1e-3*torch.eye(stem.shape[-1])),\n",
    "            torch.matmul(stem.t(), targets))\n",
    "  return kernel_weights\n",
    "def get_weights(images, n_components = 1, kernel = 3):\n",
    "    images = torch.Tensor(images)\n",
    "    encoder_input = STEM(images.reshape(-1,1), kernel) #X\n",
    "\n",
    "    pca = PCA(n_components=n_components)\n",
    "    encoder_input = encoder_input.reshape(-1, kernel*kernel)\n",
    "    pca_result = pca.fit_transform(encoder_input)\n",
    "    pca_result = torch.Tensor(pca_result) #Y\n",
    "\n",
    "    encoder_weight = DPCA_eig(pca_result.t(),encoder_input.t(),n_components )['W'] #W\n",
    "\n",
    "    decoder_input = STEM(pca_result.reshape(-1,1),kernel)\n",
    "    decoder_input = decoder_input.reshape(-1, kernel*kernel)\n",
    "    decoder_output = images.reshape(-1,1)\n",
    "    decoder_weight = LSE(decoder_input, decoder_output) #supervised\n",
    "    \n",
    "    return torch.Tensor(encoder_weight), torch.Tensor(decoder_weight)\n",
    "\n",
    "def encoder(encoder_input, encoder_weight, kernel = 3):\n",
    "    encoder_input = torch.Tensor(encoder_input)\n",
    "    input_stem = STEM(encoder_input.reshape(-1,1), kernel)\n",
    "    encoder_output = torch.matmul(input_stem.reshape(-1, kernel*kernel), encoder_weight.t())\n",
    "    return encoder_output\n",
    "def decoder(decoder_input, decoder_weight,kernel = 3):\n",
    "    decoder_input = torch.Tensor(decoder_input)\n",
    "    input_stem = STEM(decoder_input.reshape(-1,1), kernel)\n",
    "    decoder_output = torch.matmul(input_stem.reshape(-1, kernel*kernel), decoder_weight)\n",
    "    return decoder_output\n",
    "\n"
   ]
  },
  {
   "cell_type": "code",
   "execution_count": 171,
   "metadata": {},
   "outputs": [],
   "source": [
    "def plot_one_image(img):\n",
    "    # plt.imshow('image window', img)\n",
    "    # plt.imshow(img.cpu().data.numpy())\n",
    "    img = (img - img.min()) / (img.max() - img.min()) * 255\n",
    "    #print after normalization\n",
    "    print(f\"After normalizing: {img}\")\n",
    "    img = img.astype('uint8')\n",
    "    plt.imshow(img, cmap='gray') \n",
    "    # plt.imshow(cv2.cvtColor(img, cv2.COLOR_BGR2RGB))\n",
    "    plt.show()"
   ]
  },
  {
   "cell_type": "code",
   "execution_count": 173,
   "metadata": {},
   "outputs": [
    {
     "name": "stdout",
     "output_type": "stream",
     "text": [
      "> Initializing started\n",
      "L.shape = (10304, 240)\n",
      "(10304, 240)\n",
      "(10304,)\n",
      "float64\n",
      "original image: [[63. 53. 35. ... 36. 44. 45.]\n",
      " [56. 48. 31. ... 57. 50. 50.]\n",
      " [52. 29. 35. ... 54. 55. 61.]\n",
      " ...\n",
      " [35. 37. 36. ... 44.  9. 25.]\n",
      " [36. 35. 37. ... 40.  7. 28.]\n",
      " [35. 38. 34. ... 41. 10. 24.]]\n",
      "After normalizing: [[70.42857143 58.28571429 36.42857143 ... 37.64285714 47.35714286\n",
      "  48.57142857]\n",
      " [61.92857143 52.21428571 31.57142857 ... 63.14285714 54.64285714\n",
      "  54.64285714]\n",
      " [57.07142857 29.14285714 36.42857143 ... 59.5        60.71428571\n",
      "  68.        ]\n",
      " ...\n",
      " [36.42857143 38.85714286 37.64285714 ... 47.35714286  4.85714286\n",
      "  24.28571429]\n",
      " [37.64285714 36.42857143 38.85714286 ... 42.5         2.42857143\n",
      "  27.92857143]\n",
      " [36.42857143 40.07142857 35.21428571 ... 43.71428571  6.07142857\n",
      "  23.07142857]]\n"
     ]
    },
    {
     "data": {
      "image/png": "[encoded data removed]",
      "text/plain": [
       "<Figure size 640x480 with 1 Axes>"
      ]
     },
     "metadata": {},
     "output_type": "display_data"
    },
    {
     "name": "stdout",
     "output_type": "stream",
     "text": [
      "X.shape = torch.Size([3, 3, 10304, 1])\n",
      "Y.shape = torch.Size([1, 10304])\n",
      "X.shape = torch.Size([9, 10304])\n",
      "n = 9, p = 10304\n",
      "XYt.shape = torch.Size([9, 1])\n",
      "RM.shape = torch.Size([9, 9])\n",
      "values.shape = torch.Size([9])\n",
      "U.shape = torch.Size([1, 9])\n",
      "UX.shape = torch.Size([1, 10304])\n",
      "F.shape = torch.Size([1, 1])\n",
      "W.shape = torch.Size([1, 9])\n",
      "X.shape = torch.Size([3, 3, 10304, 1])\n",
      "stem.shape = torch.Size([10304, 9])\n",
      "targets.shape = torch.Size([10304, 1])\n",
      "torch.Size([1, 9])\n",
      "torch.Size([9, 1])\n",
      "X.shape = torch.Size([3, 3, 10304, 1])\n",
      "encoder_output.shape: torch.Size([10304, 1])\n",
      "encoder_output: tensor([[ 71.4153],\n",
      "        [160.0025],\n",
      "        [194.8625],\n",
      "        ...,\n",
      "        [  0.0000],\n",
      "        [  0.0000],\n",
      "        [  0.0000]])\n",
      "After normalizing: [[ 41.448208  92.862755 113.094864 ... 177.58974  106.62003   70.401215]\n",
      " [ 57.47254  170.10246  203.47992  ... 210.00467  123.0398    76.13468 ]\n",
      " [125.37615  182.39677  207.78891  ... 214.57677  132.16476   81.635025]\n",
      " ...\n",
      " [  0.         0.         0.       ...   0.         0.         0.      ]\n",
      " [  0.         0.         0.       ...   0.         0.         0.      ]\n",
      " [  0.         0.         0.       ...   0.         0.         0.      ]]\n"
     ]
    },
    {
     "data": {
      "image/png": "[encoded data removed]",
      "text/plain": [
       "<Figure size 640x480 with 1 Axes>"
      ]
     },
     "metadata": {},
     "output_type": "display_data"
    },
    {
     "name": "stdout",
     "output_type": "stream",
     "text": [
      "X.shape = torch.Size([3, 3, 10304, 1])\n",
      "decoder_output.shape: (112, 92)\n",
      "decoder_output: [[-0.68963546 -1.5946808  -0.9763558  ... -0.48196727 -2.4677565\n",
      "  -1.1915765 ]\n",
      " [-1.4837995  -1.7005008   0.8817041  ...  0.          0.\n",
      "   0.        ]\n",
      " [ 0.          0.          0.         ...  0.          0.\n",
      "   0.        ]\n",
      " ...\n",
      " [ 0.          0.          0.         ...  0.          0.\n",
      "   0.        ]\n",
      " [ 0.          0.          0.         ...  0.          0.\n",
      "   0.        ]\n",
      " [ 0.          0.          0.         ...  0.          0.\n",
      "   0.        ]]\n",
      "After normalizing: [[123.35683   91.15654  113.1557   ... 130.74538   60.093697 105.49844 ]\n",
      " [ 95.10155   87.3916   179.26294  ... 147.89311  147.89311  147.89311 ]\n",
      " [147.89311  147.89311  147.89311  ... 147.89311  147.89311  147.89311 ]\n",
      " ...\n",
      " [147.89311  147.89311  147.89311  ... 147.89311  147.89311  147.89311 ]\n",
      " [147.89311  147.89311  147.89311  ... 147.89311  147.89311  147.89311 ]\n",
      " [147.89311  147.89311  147.89311  ... 147.89311  147.89311  147.89311 ]]\n"
     ]
    },
    {
     "data": {
      "image/png": "[encoded data removed]",
      "text/plain": [
       "<Figure size 640x480 with 1 Axes>"
      ]
     },
     "metadata": {},
     "output_type": "display_data"
    }
   ],
   "source": [
    "images = Eigenfaces(faces_dir_original).L\n",
    "print(images.shape)\n",
    "one_test_img = images[:,0]\n",
    "print(one_test_img.shape)\n",
    "#print date type of one_test_img, float32 or float64\n",
    "print(one_test_img.dtype)\n",
    "print(f\"original image: {one_test_img.reshape(112,92)}\")\n",
    "#plot test image\n",
    "plot_one_image(one_test_img.reshape(112,92)) #\n",
    "# view_image(torch.Tensor(one_test_img).reshape(1,112,92))\n",
    "\n",
    "\n",
    "encoder_weight, decoder_weight = get_weights(one_test_img, n_components = 1, kernel = 3)\n",
    "\n",
    "print(encoder_weight.shape)\n",
    "print(decoder_weight.shape)\n",
    "\n",
    "encoder_output = encoder(one_test_img, encoder_weight, kernel = 3)\n",
    "# print(f\"encoder_output.shape: {encoder_output.shape}\")\n",
    "# print(f\"encoder_output: {encoder_output}\")\n",
    "plot_one_image(encoder_output.reshape(112,92).cpu().data.numpy())\n",
    "\n",
    "\n",
    "decoder_output = decoder(encoder_output, decoder_weight, kernel = 3)\n",
    "# print(f\"decoder_output: {decoder_output}\")\n",
    "# print(f\"decoder_output.shape: {decoder_output.shape}\")\n",
    "\n",
    "\n",
    "#plot the restored image\n",
    "img_out = decoder_output.reshape(112,92).cpu().data.numpy()\n",
    "# print(f\"decoder_output.shape: {img_out.shape}\")\n",
    "# print(f\"decoder_output: {img_out}\")\n",
    "\n",
    "plot_one_image(img_out) #restored img\n",
    "\n"
   ]
  }
 ],
 "metadata": {
  "kernelspec": {
   "display_name": "Python 3",
   "language": "python",
   "name": "python3"
  },
  "language_info": {
   "codemirror_mode": {
    "name": "ipython",
    "version": 3
   },
   "file_extension": ".py",
   "mimetype": "text/x-python",
   "name": "python",
   "nbconvert_exporter": "python",
   "pygments_lexer": "ipython3",
   "version": "3.9.16"
  },
  "orig_nbformat": 4
 },
 "nbformat": 4,
 "nbformat_minor": 2
}
